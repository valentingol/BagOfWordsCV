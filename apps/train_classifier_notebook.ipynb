{
 "cells": [
  {
   "cell_type": "markdown",
   "metadata": {},
   "source": [
    "# Train classifier notebook"
   ]
  },
  {
   "cell_type": "markdown",
   "metadata": {},
   "source": [
    "Imports cell"
   ]
  },
  {
   "cell_type": "code",
   "execution_count": 1,
   "metadata": {},
   "outputs": [
    {
     "name": "stdout",
     "output_type": "stream",
     "text": [
      "Curent working directory: /home/valentingoldite/Documents/Projets_ML/BagOfWordsCV\n"
     ]
    }
   ],
   "source": [
    "import os\n",
    "import numpy as np\n",
    "\n",
    "from lib.data import get_dataset\n",
    "from lib.classifier import SVM\n",
    "from lib.bag_of_words import get_features\n",
    "from lib.descriptors import get_keypoints_orb\n",
    "from lib.mask import mask_apple_tomato\n",
    "\n",
    "os.chdir('..')  # change to the root directory\n",
    "print(f'Curent working directory: {os.getcwd()}')"
   ]
  },
  {
   "cell_type": "markdown",
   "metadata": {},
   "source": [
    "Dataset, vocabulary and masking function"
   ]
  },
  {
   "cell_type": "code",
   "execution_count": 2,
   "metadata": {},
   "outputs": [
    {
     "name": "stdout",
     "output_type": "stream",
     "text": [
      "Train & validation set: 653 samples.\n",
      "Test set: 114 samples.\n"
     ]
    }
   ],
   "source": [
    "# Take dataset with same number of images on each class (apple and tomato)\n",
    "infos = {'apple_a': (0, 500), 'apple_b': (1, 500), 'apple_c': (1, 0),\n",
    "                'tomato': (1, 0)}\n",
    "(data, y), (data_test, y_test) = get_dataset('dataset/fruits',\n",
    "                                             infos, val_ratio=0.15)\n",
    "\n",
    "# Get vocabulary\n",
    "vocabulary_apple = np.load('vocabulary/fruits/apple_a_20_orb.npy')\n",
    "vocabulary_tomato = np.load('vocabulary/fruits/apple_b_20_orb.npy')\n",
    "vocabulary = np.concatenate((vocabulary_apple, vocabulary_tomato), axis=0)\n",
    "\n",
    "# Get masking function\n",
    "mask_func = mask_apple_tomato\n",
    "\n",
    "print('Train & validation set:', len(data), 'samples.')\n",
    "print('Test set:', len(data_test), 'samples.')"
   ]
  },
  {
   "cell_type": "markdown",
   "metadata": {},
   "source": [
    "Get descriptors and make bag of words features"
   ]
  },
  {
   "cell_type": "code",
   "execution_count": 3,
   "metadata": {},
   "outputs": [
    {
     "name": "stdout",
     "output_type": "stream",
     "text": [
      "Features extracted.\n"
     ]
    }
   ],
   "source": [
    "dist = 'euclidian'\n",
    "desc, _ = get_keypoints_orb(data, select=500,\n",
    "                                mask_func=mask_func)\n",
    "desc_test, _ = get_keypoints_orb(data_test, select=500,\n",
    "                                mask_func=mask_func)\n",
    "X = get_features(desc, vocabulary)\n",
    "X_test = get_features(desc_test, vocabulary, dist=dist)\n",
    "print('Features extracted.')"
   ]
  },
  {
   "cell_type": "markdown",
   "metadata": {},
   "source": [
    "Cross-validation and gridsearch for SVM"
   ]
  },
  {
   "cell_type": "code",
   "execution_count": 4,
   "metadata": {},
   "outputs": [
    {
     "name": "stdout",
     "output_type": "stream",
     "text": [
      "C=1, gamma=0.000010 - val acc=65.35%\n",
      "C=1, gamma=0.000100 - val acc=65.81%\n",
      "C=1, gamma=0.001000 - val acc=65.58%\n",
      "C=1, gamma=0.010000 - val acc=83.88%\n",
      "C=1, gamma=0.100000 - val acc=87.85%\n",
      "C=1, gamma=1.000000 - val acc=74.92%\n",
      "C=10, gamma=0.000010 - val acc=66.69%\n",
      "C=10, gamma=0.000100 - val acc=66.27%\n",
      "C=10, gamma=0.001000 - val acc=83.85%\n",
      "C=10, gamma=0.010000 - val acc=88.04%\n",
      "C=10, gamma=0.100000 - val acc=90.04%\n",
      "C=10, gamma=1.000000 - val acc=76.58%\n",
      "C=100, gamma=0.000010 - val acc=65.81%\n",
      "C=100, gamma=0.000100 - val acc=83.00%\n",
      "C=100, gamma=0.001000 - val acc=87.96%\n",
      "C=100, gamma=0.010000 - val acc=90.73%\n",
      "C=100, gamma=0.100000 - val acc=91.88%\n",
      "C=100, gamma=1.000000 - val acc=75.23%\n",
      "C=1000, gamma=0.000010 - val acc=82.12%\n",
      "C=1000, gamma=0.000100 - val acc=87.46%\n",
      "C=1000, gamma=0.001000 - val acc=88.77%\n",
      "C=1000, gamma=0.010000 - val acc=90.54%\n",
      "C=1000, gamma=0.100000 - val acc=90.81%\n",
      "C=1000, gamma=1.000000 - val acc=74.69%\n"
     ]
    }
   ],
   "source": [
    "data_prop = 0.2\n",
    "n_folds = 20\n",
    "C_range = [1, 10, 100, 1000]\n",
    "gamma_range = [1e-5, 1e-4, 1e-3, 1e-2, 0.1, 1]\n",
    "\n",
    "for C in C_range:\n",
    "    for gamma in gamma_range:\n",
    "        mean_acc = 0.0\n",
    "        for _ in range(n_folds):\n",
    "            val_idx = np.random.choice(len(X), int(len(X) * data_prop),\n",
    "                                       replace=False)\n",
    "            train_idx = np.array([i for i in range(len(X)) if i not in val_idx])\n",
    "            X_val, y_val = X[val_idx], y[val_idx]\n",
    "            X_train, y_train = X[train_idx], y[train_idx]\n",
    "            svm = SVM(C=C, kernel='rbf', gamma=gamma, verbose=False)\n",
    "            svm.fit(X_train, y_train)\n",
    "            preds = svm.predict(X_val)\n",
    "            mean_acc += np.mean(preds == y_val) / n_folds\n",
    "        print(f'C={C}, gamma={gamma:.6f} - val acc={100 * mean_acc:.2f}%')"
   ]
  },
  {
   "cell_type": "markdown",
   "metadata": {},
   "source": [
    "Test SVM on test set"
   ]
  },
  {
   "cell_type": "code",
   "execution_count": 5,
   "metadata": {},
   "outputs": [
    {
     "name": "stdout",
     "output_type": "stream",
     "text": [
      "test accuracy: 90.35%\n"
     ]
    }
   ],
   "source": [
    "C = 100\n",
    "gamma = 0.1\n",
    "svm = SVM(C=C, kernel='rbf', gamma=gamma, verbose=False)\n",
    "svm.fit(X_train, y_train)\n",
    "preds = svm.predict(X_test)\n",
    "accuracy = np.mean(preds == y_test)\n",
    "print(f'Test accuracy: {100 * accuracy:.2f}%')"
   ]
  }
 ],
 "metadata": {
  "interpreter": {
   "hash": "ea5b4c43a3200af9dfc7c950976de452413d171355be86b220fd2f030034cf7b"
  },
  "kernelspec": {
   "display_name": "Python 3.8.10 64-bit ('keyp': virtualenv)",
   "language": "python",
   "name": "python3"
  },
  "language_info": {
   "codemirror_mode": {
    "name": "ipython",
    "version": 3
   },
   "file_extension": ".py",
   "mimetype": "text/x-python",
   "name": "python",
   "nbconvert_exporter": "python",
   "pygments_lexer": "ipython3",
   "version": "3.8.10"
  },
  "orig_nbformat": 4
 },
 "nbformat": 4,
 "nbformat_minor": 2
}
